{
 "cells": [
  {
   "cell_type": "raw",
   "id": "a977d093-a9c2-4603-9cc1-9cbe5ffe1d6e",
   "metadata": {},
   "source": []
  },
  {
   "cell_type": "code",
   "execution_count": 1,
   "id": "93e17b73-ded3-4224-94c3-327a334f682d",
   "metadata": {},
   "outputs": [
    {
     "data": {
      "text/plain": [
       "'i am a beginner in Computer programming'"
      ]
     },
     "execution_count": 1,
     "metadata": {},
     "output_type": "execute_result"
    }
   ],
   "source": [
    "'i am a beginner in Computer programming'\n"
   ]
  },
  {
   "cell_type": "code",
   "execution_count": 14,
   "id": "fccaf33f-33e8-411d-be93-77ccf0511cc7",
   "metadata": {},
   "outputs": [
    {
     "name": "stdout",
     "output_type": "stream",
     "text": [
      "how are you\n",
      "the end\n"
     ]
    },
    {
     "data": {
      "text/plain": [
       "2.2"
      ]
     },
     "execution_count": 14,
     "metadata": {},
     "output_type": "execute_result"
    }
   ],
   "source": [
    "class NadineDemo: #understanding classes and functions\n",
    "    def guess_count(self):\n",
    "        print('how are you')\n",
    "        print('the end')\n",
    "        \n",
    "        \n",
    "        \n",
    "c = NadineDemo()\n",
    "c.guess_count()\n",
    "\n",
    "1+1.2\n"
   ]
  },
  {
   "cell_type": "code",
   "execution_count": null,
   "id": "a40dcf39-32e5-4ef1-a253-067d82489782",
   "metadata": {},
   "outputs": [],
   "source": []
  },
  {
   "cell_type": "code",
   "execution_count": null,
   "id": "b365e1d6-1f07-4ed8-b52f-50ac0e1f02d8",
   "metadata": {},
   "outputs": [],
   "source": []
  },
  {
   "cell_type": "code",
   "execution_count": 6,
   "id": "83e28d92-50e4-4957-a2b1-b7b328beae14",
   "metadata": {},
   "outputs": [
    {
     "name": "stdin",
     "output_type": "stream",
     "text": [
      "what is your favourrite number 3\n"
     ]
    },
    {
     "name": "stdout",
     "output_type": "stream",
     "text": [
      "superb girl\n"
     ]
    }
   ],
   "source": [
    "num1 = int(input('what is your favourrite number'))\n",
    "num2 = 43\n",
    "num3 = num1 + num2\n",
    "if num3>50:\n",
    "    print('number is large')\n",
    "elif num3<40:\n",
    "        print('my faovurite number')\n",
    "else:\n",
    "    print('superb girl')\n",
    "    \n",
    "    \n",
    "#im trying to undrestand basic python syntax and working with them"
   ]
  },
  {
   "cell_type": "code",
   "execution_count": 47,
   "id": "1eb62612-1f5c-453c-8b55-02a3e4df1b19",
   "metadata": {},
   "outputs": [
    {
     "name": "stdin",
     "output_type": "stream",
     "text": [
      "favourite number 99.9\n"
     ]
    },
    {
     "name": "stdout",
     "output_type": "stream",
     "text": [
      "i love 99.9\n"
     ]
    }
   ],
   "source": [
    "num = input('favourite number') #understandin variables and typecasting\n",
    "num2 =float (num)\n",
    "if num2 <100.0:\n",
    "    print (f\"i love {num2}\")\n",
    "else:\n",
    "    print('it is an interger')#\n",
    "\n",
    "    "
   ]
  },
  {
   "cell_type": "code",
   "execution_count": 38,
   "id": "68c9172a-ac4a-4dfb-bda0-4a95503888ad",
   "metadata": {},
   "outputs": [
    {
     "name": "stdout",
     "output_type": "stream",
     "text": [
      "Ngum  Nadine\n"
     ]
    }
   ],
   "source": [
    "#functions and classes\n",
    "def game_time(FirstName,LastName):\n",
    "    \n",
    "    print(f\"{FirstName}  {LastName}\")\n",
    "    \n",
    "    \n",
    "game_time( FirstName = 'Ngum',    LastName = 'Nadine') # arguments in nrackets. position matters"
   ]
  },
  {
   "cell_type": "code",
   "execution_count": 32,
   "id": "e8273728-1f9b-47f4-8435-7c0f269939d5",
   "metadata": {},
   "outputs": [
    {
     "name": "stdin",
     "output_type": "stream",
     "text": [
      "what is your favourrite number 4\n"
     ]
    },
    {
     "name": "stdout",
     "output_type": "stream",
     "text": [
      "superb girl\n"
     ]
    }
   ],
   "source": [
    "def calculations(num1,num2,num3):\n",
    "    num1 = int(input('what is your favourrite number'))\n",
    "    num2 = 43\n",
    "    num3 = num1 + num2\n",
    "    if num3>50:\n",
    "         print('number is large')\n",
    "    elif num3<40:\n",
    "        print('my faovurite number')\n",
    "    else:\n",
    "        print('superb girl')\n",
    "        \n",
    "        \n",
    "calculations(num1,43,num3)\n",
    "    "
   ]
  },
  {
   "cell_type": "code",
   "execution_count": 42,
   "id": "7ef07b20-264e-4f82-a899-692bdb5f4b5e",
   "metadata": {},
   "outputs": [
    {
     "name": "stdout",
     "output_type": "stream",
     "text": [
      "144\n"
     ]
    }
   ],
   "source": [
    "def square(number): #calculating the square of a number\n",
    "    value = number**2\n",
    "    return value\n",
    "    \n",
    "    \n",
    "print(square(12))#use the return function so that NONE doesnot appear"
   ]
  },
  {
   "cell_type": "code",
   "execution_count": null,
   "id": "cf67e9dc-0417-4708-8613-effe33ba01bc",
   "metadata": {},
   "outputs": [],
   "source": []
  }
 ],
 "metadata": {
  "kernelspec": {
   "display_name": "Python 3 (ipykernel)",
   "language": "python",
   "name": "python3"
  },
  "language_info": {
   "codemirror_mode": {
    "name": "ipython",
    "version": 3
   },
   "file_extension": ".py",
   "mimetype": "text/x-python",
   "name": "python",
   "nbconvert_exporter": "python",
   "pygments_lexer": "ipython3",
   "version": "3.9.7"
  }
 },
 "nbformat": 4,
 "nbformat_minor": 5
}
